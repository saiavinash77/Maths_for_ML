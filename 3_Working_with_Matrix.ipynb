{
  "nbformat": 4,
  "nbformat_minor": 0,
  "metadata": {
    "colab": {
      "provenance": [],
      "authorship_tag": "ABX9TyO7QM7Em/ogJwUvgNx3CjsV",
      "include_colab_link": true
    },
    "kernelspec": {
      "name": "python3",
      "display_name": "Python 3"
    },
    "language_info": {
      "name": "python"
    }
  },
  "cells": [
    {
      "cell_type": "markdown",
      "metadata": {
        "id": "view-in-github",
        "colab_type": "text"
      },
      "source": [
        "<a href=\"https://colab.research.google.com/github/saiavinash77/Maths_for_ML/blob/main/3_Working_with_Matrix.ipynb\" target=\"_parent\"><img src=\"https://colab.research.google.com/assets/colab-badge.svg\" alt=\"Open In Colab\"/></a>"
      ]
    },
    {
      "cell_type": "markdown",
      "source": [
        "## ***In this part we are gonna working with How to create a Matrix and some manipulations with them ***"
      ],
      "metadata": {
        "id": "s9iT8khV2TJu"
      }
    },
    {
      "cell_type": "markdown",
      "source": [
        "IMporting The Dependencies"
      ],
      "metadata": {
        "id": "H9Nu8rHixEuv"
      }
    },
    {
      "cell_type": "code",
      "execution_count": 1,
      "metadata": {
        "id": "jQqQqIctwxyY"
      },
      "outputs": [],
      "source": [
        "import numpy as np"
      ]
    },
    {
      "cell_type": "markdown",
      "source": [
        "Creating a Matrix Using Numpy"
      ],
      "metadata": {
        "id": "7v0-Sf7qxLCS"
      }
    },
    {
      "cell_type": "code",
      "source": [
        "matrix_1 = np.array([[1,2],[3,4]])"
      ],
      "metadata": {
        "id": "cCOLPtXbxJg2"
      },
      "execution_count": 3,
      "outputs": []
    },
    {
      "cell_type": "code",
      "source": [
        "print(matrix_1)"
      ],
      "metadata": {
        "colab": {
          "base_uri": "https://localhost:8080/"
        },
        "id": "cQcVHbpXxgAW",
        "outputId": "a415738c-bd2a-455e-d898-ab89b1f675c4"
      },
      "execution_count": 5,
      "outputs": [
        {
          "output_type": "stream",
          "name": "stdout",
          "text": [
            "[[1 2]\n",
            " [3 4]]\n"
          ]
        }
      ]
    },
    {
      "cell_type": "markdown",
      "source": [
        "Knowing The Length Of the Matrix ,i mean How many rows and columns (r,c)"
      ],
      "metadata": {
        "id": "saJteQTpxoJk"
      }
    },
    {
      "cell_type": "code",
      "source": [
        "matrix_2 = np.array([[10,30,40],[20,40,60],[20,15,19]])"
      ],
      "metadata": {
        "id": "SXqWj7Fpxh_E"
      },
      "execution_count": 6,
      "outputs": []
    },
    {
      "cell_type": "code",
      "source": [
        "print(matrix_2)"
      ],
      "metadata": {
        "colab": {
          "base_uri": "https://localhost:8080/"
        },
        "id": "El_HWDeux_Pr",
        "outputId": "1ee7f37e-2a3a-4a2d-db69-92c3643d3655"
      },
      "execution_count": 7,
      "outputs": [
        {
          "output_type": "stream",
          "name": "stdout",
          "text": [
            "[[10 30 40]\n",
            " [20 40 60]\n",
            " [20 15 19]]\n"
          ]
        }
      ]
    },
    {
      "cell_type": "code",
      "source": [
        "matrix_2.shape"
      ],
      "metadata": {
        "colab": {
          "base_uri": "https://localhost:8080/"
        },
        "id": "PllixtkQyAzc",
        "outputId": "76cce385-83b8-40a9-f1d5-518aa759e189"
      },
      "execution_count": 8,
      "outputs": [
        {
          "output_type": "execute_result",
          "data": {
            "text/plain": [
              "(3, 3)"
            ]
          },
          "metadata": {},
          "execution_count": 8
        }
      ]
    },
    {
      "cell_type": "markdown",
      "source": [
        "Creating a matrix with random Values"
      ],
      "metadata": {
        "id": "PmdfqCybyJEy"
      }
    },
    {
      "cell_type": "code",
      "source": [
        "# importing the dependencies\n",
        "\n",
        "import random"
      ],
      "metadata": {
        "id": "bJ_-oYxAyGHJ"
      },
      "execution_count": 9,
      "outputs": []
    },
    {
      "cell_type": "code",
      "source": [
        "random_array = np.random.rand(2,3)\n",
        "\n",
        "print(random_array)"
      ],
      "metadata": {
        "colab": {
          "base_uri": "https://localhost:8080/"
        },
        "id": "gz9B2iyzyV6A",
        "outputId": "b9e1afb5-6d3e-457f-bc2f-da16f391a011"
      },
      "execution_count": 10,
      "outputs": [
        {
          "output_type": "stream",
          "name": "stdout",
          "text": [
            "[[0.10654823 0.43210642 0.89060474]\n",
            " [0.27821193 0.8150686  0.77801136]]\n"
          ]
        }
      ]
    },
    {
      "cell_type": "code",
      "source": [
        "# creating a matrix with random numbers upto 100\n",
        "random_integer_matrix = np.random.randint(100,size = (4,5))\n",
        "print(random_integer_matrix)"
      ],
      "metadata": {
        "colab": {
          "base_uri": "https://localhost:8080/"
        },
        "id": "ym06WJjtyipB",
        "outputId": "8e60c911-ddb2-4f0a-cd02-bd3be91056c7"
      },
      "execution_count": 17,
      "outputs": [
        {
          "output_type": "stream",
          "name": "stdout",
          "text": [
            "[[ 0 11 91  8 88]\n",
            " [82 66 99 20 93]\n",
            " [52 15 63 29 23]\n",
            " [38 62 56 29 98]]\n"
          ]
        }
      ]
    },
    {
      "cell_type": "code",
      "source": [
        "#  creating a matrix with all ones with float values\n",
        "\n",
        "matrix_3 = np.ones((2,3))\n",
        "print(matrix_3)"
      ],
      "metadata": {
        "colab": {
          "base_uri": "https://localhost:8080/"
        },
        "id": "I5mLjCoN0B1v",
        "outputId": "9e9fbd67-4b74-4374-bcbe-f55806430a99"
      },
      "execution_count": 28,
      "outputs": [
        {
          "output_type": "stream",
          "name": "stdout",
          "text": [
            "[[1. 1. 1.]\n",
            " [1. 1. 1.]]\n"
          ]
        }
      ]
    },
    {
      "cell_type": "code",
      "source": [
        "# creating a matrix with all ones\n",
        "\n",
        "matrix_3 = np.ones((10,10),dtype = int)\n",
        "print(matrix_3)"
      ],
      "metadata": {
        "colab": {
          "base_uri": "https://localhost:8080/"
        },
        "id": "q4Ol0cMByv0W",
        "outputId": "25b2b41c-bad2-41b9-8b81-cf77acde2e4b"
      },
      "execution_count": 27,
      "outputs": [
        {
          "output_type": "stream",
          "name": "stdout",
          "text": [
            "[[1 1 1 1 1 1 1 1 1 1]\n",
            " [1 1 1 1 1 1 1 1 1 1]\n",
            " [1 1 1 1 1 1 1 1 1 1]\n",
            " [1 1 1 1 1 1 1 1 1 1]\n",
            " [1 1 1 1 1 1 1 1 1 1]\n",
            " [1 1 1 1 1 1 1 1 1 1]\n",
            " [1 1 1 1 1 1 1 1 1 1]\n",
            " [1 1 1 1 1 1 1 1 1 1]\n",
            " [1 1 1 1 1 1 1 1 1 1]\n",
            " [1 1 1 1 1 1 1 1 1 1]]\n"
          ]
        }
      ]
    },
    {
      "cell_type": "code",
      "source": [
        "# creating all the matrix with zeroes\n",
        "\n",
        "Zero_mat = np.zeros((4,5))\n",
        "print(Zero_mat)"
      ],
      "metadata": {
        "colab": {
          "base_uri": "https://localhost:8080/"
        },
        "id": "Ukm4MkNXzUDI",
        "outputId": "da3d565a-4dc3-44aa-f8a4-e3cb193792e5"
      },
      "execution_count": 33,
      "outputs": [
        {
          "output_type": "stream",
          "name": "stdout",
          "text": [
            "[[0. 0. 0. 0. 0.]\n",
            " [0. 0. 0. 0. 0.]\n",
            " [0. 0. 0. 0. 0.]\n",
            " [0. 0. 0. 0. 0.]]\n"
          ]
        }
      ]
    },
    {
      "cell_type": "code",
      "source": [
        "# creating all the matrix with zeroes\n",
        "\n",
        "Zero_mat = np.zeros((4,5),dtype = int)\n",
        "print(Zero_mat)"
      ],
      "metadata": {
        "colab": {
          "base_uri": "https://localhost:8080/"
        },
        "id": "Sa2lrZDk0VGO",
        "outputId": "e5d71c56-782f-4022-bc81-bc2d5a016734"
      },
      "execution_count": 34,
      "outputs": [
        {
          "output_type": "stream",
          "name": "stdout",
          "text": [
            "[[0 0 0 0 0]\n",
            " [0 0 0 0 0]\n",
            " [0 0 0 0 0]\n",
            " [0 0 0 0 0]]\n"
          ]
        }
      ]
    },
    {
      "cell_type": "markdown",
      "source": [
        "Identity Matrix"
      ],
      "metadata": {
        "id": "FZr4yy4c0v5T"
      }
    },
    {
      "cell_type": "code",
      "source": [
        "identity = np.eye(3,3)\n",
        "identity"
      ],
      "metadata": {
        "colab": {
          "base_uri": "https://localhost:8080/"
        },
        "id": "7XbLEnTJ0t8M",
        "outputId": "83855be2-f369-4623-e3a3-0830d54a1b60"
      },
      "execution_count": 36,
      "outputs": [
        {
          "output_type": "execute_result",
          "data": {
            "text/plain": [
              "array([[1., 0., 0.],\n",
              "       [0., 1., 0.],\n",
              "       [0., 0., 1.]])"
            ]
          },
          "metadata": {},
          "execution_count": 36
        }
      ]
    },
    {
      "cell_type": "code",
      "source": [
        "# Matrix With random integer Values Doing Transpose for this\n",
        "# This is a normal One\n",
        "Matrix_conversion = np.random.randint(100,size = (5,5))\n",
        "print(Matrix_conversion)"
      ],
      "metadata": {
        "colab": {
          "base_uri": "https://localhost:8080/"
        },
        "id": "XZINXJnS05lf",
        "outputId": "5d38f141-650d-456b-ccce-3d401e86a44c"
      },
      "execution_count": 38,
      "outputs": [
        {
          "output_type": "stream",
          "name": "stdout",
          "text": [
            "[[ 7 97 62 53 49]\n",
            " [62 38 85 34 76]\n",
            " [ 4  3 55 36 63]\n",
            " [51 54 80 50 73]\n",
            " [60 44 81 62 47]]\n"
          ]
        }
      ]
    },
    {
      "cell_type": "code",
      "source": [
        "# Herre is the Transposed one\n",
        "\n",
        "transpose = np.transpose(Matrix_conversion)"
      ],
      "metadata": {
        "id": "QMqTX2Q91zaL"
      },
      "execution_count": 39,
      "outputs": []
    },
    {
      "cell_type": "code",
      "source": [
        "transpose"
      ],
      "metadata": {
        "colab": {
          "base_uri": "https://localhost:8080/"
        },
        "id": "LGB2uqfx2Er2",
        "outputId": "29bb1c55-ceea-4540-95f2-5fd21e2046cd"
      },
      "execution_count": 40,
      "outputs": [
        {
          "output_type": "execute_result",
          "data": {
            "text/plain": [
              "array([[ 7, 62,  4, 51, 60],\n",
              "       [97, 38,  3, 54, 44],\n",
              "       [62, 85, 55, 80, 81],\n",
              "       [53, 34, 36, 50, 62],\n",
              "       [49, 76, 63, 73, 47]])"
            ]
          },
          "metadata": {},
          "execution_count": 40
        }
      ]
    },
    {
      "cell_type": "code",
      "source": [],
      "metadata": {
        "id": "kRWyh_kc2GEc"
      },
      "execution_count": null,
      "outputs": []
    }
  ]
}