{
  "nbformat": 4,
  "nbformat_minor": 0,
  "metadata": {
    "colab": {
      "provenance": [],
      "authorship_tag": "ABX9TyNdLOGpSwd8cBhf3B2Tz0vD",
      "include_colab_link": true
    },
    "kernelspec": {
      "name": "python3",
      "display_name": "Python 3"
    },
    "language_info": {
      "name": "python"
    }
  },
  "cells": [
    {
      "cell_type": "markdown",
      "metadata": {
        "id": "view-in-github",
        "colab_type": "text"
      },
      "source": [
        "<a href=\"https://colab.research.google.com/github/saiavinash77/Maths_for_ML/blob/main/4_Matrix_Operations.ipynb\" target=\"_parent\"><img src=\"https://colab.research.google.com/assets/colab-badge.svg\" alt=\"Open In Colab\"/></a>"
      ]
    },
    {
      "cell_type": "code",
      "source": [
        "# Matrix_addition\n",
        "import numpy as np\n",
        "matrix_1 = np.array([[2,3],[10,5]])\n",
        "matrix_2 = np.array([[10,5],[20,4]])"
      ],
      "metadata": {
        "id": "Sv1BvW4J3CxO"
      },
      "execution_count": 5,
      "outputs": []
    },
    {
      "cell_type": "markdown",
      "source": [],
      "metadata": {
        "id": "NZUeyVh73CfQ"
      }
    },
    {
      "cell_type": "code",
      "execution_count": 7,
      "metadata": {
        "colab": {
          "base_uri": "https://localhost:8080/"
        },
        "id": "WRVOn-rg25rw",
        "outputId": "98a34a40-fc90-4137-93d2-795c3f89498d"
      },
      "outputs": [
        {
          "output_type": "stream",
          "name": "stdout",
          "text": [
            "[[12  8]\n",
            " [30  9]]\n"
          ]
        }
      ],
      "source": [
        "# This is all about matrix addition\n",
        "\n",
        "print(matrix_1+matrix_2)"
      ]
    },
    {
      "cell_type": "code",
      "source": [
        "# Matrix Subtraction\n",
        "\n",
        "matrix_3 = np.array([[2,3],[10,5]])\n",
        "matrix_4 = np.array([[10,5],[20,4]])\n",
        "print(matrix_3-matrix_4)"
      ],
      "metadata": {
        "colab": {
          "base_uri": "https://localhost:8080/"
        },
        "id": "YAqSoZtx3bPI",
        "outputId": "f22b5b2a-89e0-4eef-f883-40996699a48a"
      },
      "execution_count": 10,
      "outputs": [
        {
          "output_type": "stream",
          "name": "stdout",
          "text": [
            "[[ -8  -2]\n",
            " [-10   1]]\n"
          ]
        }
      ]
    },
    {
      "cell_type": "code",
      "source": [
        "# Multiplying a matrix by a sclar\n",
        "\n",
        "scalar = 4\n",
        "\n",
        "matrix_5 = np.array([[2,4,6]])\n",
        "print(scalar * matrix_5)"
      ],
      "metadata": {
        "colab": {
          "base_uri": "https://localhost:8080/"
        },
        "id": "6MQ3lwHh4w4O",
        "outputId": "fff9d11b-4812-4214-ee7f-7453d874c075"
      },
      "execution_count": 11,
      "outputs": [
        {
          "output_type": "stream",
          "name": "stdout",
          "text": [
            "[[ 8 16 24]]\n"
          ]
        }
      ]
    },
    {
      "cell_type": "code",
      "source": [
        "# Note : Vectors are the matrix with either 1 row or 1 column"
      ],
      "metadata": {
        "id": "5u4RpK-n5_QS"
      },
      "execution_count": 12,
      "outputs": []
    },
    {
      "cell_type": "code",
      "source": [
        "# ThankYou For Checking🥳🥳🥳🥳🥳🥳"
      ],
      "metadata": {
        "id": "l7LW0KKk6M5W"
      },
      "execution_count": 13,
      "outputs": []
    },
    {
      "cell_type": "code",
      "source": [],
      "metadata": {
        "id": "vZeKxFpl6giH"
      },
      "execution_count": null,
      "outputs": []
    }
  ]
}